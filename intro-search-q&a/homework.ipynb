{
 "cells": [
  {
   "cell_type": "markdown",
   "id": "e927f4f8-c8bc-40fe-a863-d0b0d473b3e8",
   "metadata": {},
   "source": [
    "## INTRO TO LLMS \n",
    "### MODULE 1 HOMEWORK\n"
   ]
  },
  {
   "cell_type": "code",
   "execution_count": 38,
   "id": "be0626a4-25ab-4552-91eb-c214b06da72f",
   "metadata": {},
   "outputs": [],
   "source": [
    "# Import libraries\n",
    "\n",
    "import requests\n",
    "import json\n",
    "from elasticsearch import Elasticsearch, exceptions\n",
    "from tqdm.auto import tqdm\n",
    "import tiktoken"
   ]
  },
  {
   "cell_type": "code",
   "execution_count": 2,
   "id": "0d217e6f-a9c8-4280-b9f4-31787b566670",
   "metadata": {},
   "outputs": [],
   "source": [
    "# Read JSON file and extract document details\n",
    "\n",
    "with open('./documents.json', 'rt') as f_in:\n",
    "    documents_file = json.load(f_in)\n",
    "\n",
    "documents = []\n",
    "\n",
    "for course in documents_file:\n",
    "    course_name = course['course']\n",
    "\n",
    "    for doc in course['documents']:\n",
    "        doc['course'] = course_name\n",
    "        documents.append(doc)"
   ]
  },
  {
   "cell_type": "code",
   "execution_count": 3,
   "id": "5537e452-dc68-490b-ac8b-92406425a243",
   "metadata": {},
   "outputs": [
    {
     "data": {
      "text/plain": [
       "{'text': 'GitHub - DataTalksClub data-engineering-zoomcamp#prerequisites',\n",
       " 'section': 'General course-related questions',\n",
       " 'question': 'Course - What are the prerequisites for this course?',\n",
       " 'course': 'data-engineering-zoomcamp'}"
      ]
     },
     "execution_count": 3,
     "metadata": {},
     "output_type": "execute_result"
    }
   ],
   "source": [
    "documents[1]"
   ]
  },
  {
   "cell_type": "markdown",
   "id": "3c24df85-ce01-423f-b457-175695c31d19",
   "metadata": {},
   "source": [
    "### Question 1"
   ]
  },
  {
   "cell_type": "code",
   "execution_count": 9,
   "id": "30f70ab8-3fca-4ddc-8c66-03d7bc611ff1",
   "metadata": {},
   "outputs": [
    {
     "data": {
      "text/plain": [
       "ObjectApiResponse({'name': '7bcdfcbcb96e', 'cluster_name': 'docker-cluster', 'cluster_uuid': '8D6V0FBmSla1jbPMHCuDcg', 'version': {'number': '8.4.3', 'build_flavor': 'default', 'build_type': 'docker', 'build_hash': '42f05b9372a9a4a470db3b52817899b99a76ee73', 'build_date': '2022-10-04T07:17:24.662462378Z', 'build_snapshot': False, 'lucene_version': '9.3.0', 'minimum_wire_compatibility_version': '7.17.0', 'minimum_index_compatibility_version': '7.0.0'}, 'tagline': 'You Know, for Search'})"
      ]
     },
     "execution_count": 9,
     "metadata": {},
     "output_type": "execute_result"
    }
   ],
   "source": [
    "es = Elasticsearch(\"http://localhost:9200\")\n",
    "es.info()"
   ]
  },
  {
   "cell_type": "markdown",
   "id": "24cf6692-0136-4ca7-99bb-8439d12d001d",
   "metadata": {},
   "source": [
    "### Question 2"
   ]
  },
  {
   "cell_type": "code",
   "execution_count": 10,
   "id": "4f1d43c5-3491-4c1a-88ad-3d1ab8794835",
   "metadata": {},
   "outputs": [],
   "source": [
    "# Create an index\n",
    "\n",
    "index_settings = {\n",
    "    \"settings\": {\n",
    "        \"number_of_shards\": 1,\n",
    "        \"number_of_replicas\": 0\n",
    "    },\n",
    "    \"mappings\": {\n",
    "        \"properties\": {\n",
    "            \"text\": {\"type\": \"text\"},\n",
    "            \"section\": {\"type\": \"text\"},\n",
    "            \"question\": {\"type\": \"text\"},\n",
    "            \"course\": {\"type\": \"keyword\"} \n",
    "        }\n",
    "    }\n",
    "}"
   ]
  },
  {
   "cell_type": "code",
   "execution_count": 11,
   "id": "69cadb4c-f3ae-4a12-a101-a08f2c6cd486",
   "metadata": {},
   "outputs": [
    {
     "name": "stdout",
     "output_type": "stream",
     "text": [
      "Index created successfully\n"
     ]
    }
   ],
   "source": [
    "index_name = \"course-questions\"\n",
    "\n",
    "try:\n",
    "    if not es.indices.exists(index=index_name):\n",
    "        es.indices.create(index=index_name, body=index_settings)\n",
    "        print(\"Index created successfully\")\n",
    "    else:\n",
    "        print(\"Index already exists\")\n",
    "except exceptions.ConnectionError as e:\n",
    "    print(f\"Failed to create index: {e}\")"
   ]
  },
  {
   "cell_type": "code",
   "execution_count": 12,
   "id": "f6429e21-b0f8-4f92-b2b1-12291ba31e2e",
   "metadata": {},
   "outputs": [
    {
     "name": "stderr",
     "output_type": "stream",
     "text": [
      "100%|███████████████████████████████████████████████████████████████| 948/948 [00:26<00:00, 35.75it/s]\n"
     ]
    }
   ],
   "source": [
    "# Index the documents\n",
    "\n",
    "for doc in tqdm(documents):\n",
    "    es.index(index=index_name, document=doc)"
   ]
  },
  {
   "cell_type": "markdown",
   "id": "989115cc-55bc-4a66-8abc-2a36cb5131ec",
   "metadata": {},
   "source": [
    "### Question 3 "
   ]
  },
  {
   "cell_type": "code",
   "execution_count": 18,
   "id": "5e29fbfe-e111-4506-bd6a-f8c1742dc935",
   "metadata": {},
   "outputs": [],
   "source": [
    "def retrieve_documents(query, index_name=\"course-questions\", max_results=5):\n",
    "    es = Elasticsearch(\"http://localhost:9200\")\n",
    "    \n",
    "    search_query = {\n",
    "        \"size\": max_results,\n",
    "        \"query\": {\n",
    "            \"bool\": {\n",
    "                \"must\": {\n",
    "                    \"multi_match\": {\n",
    "                        \"query\": query,\n",
    "                        \"fields\": [\"question^4\", \"text\"],\n",
    "                        \"type\": \"best_fields\"\n",
    "                    }\n",
    "                }\n",
    "            \n",
    "            }\n",
    "        }\n",
    "    }\n",
    "\n",
    "    try:\n",
    "        response = es.search(index=index_name, body=search_query)\n",
    "        if 'hits' in response and 'hits' in response['hits'] and len(response['hits']['hits']) > 0:\n",
    "            top_result = response['hits']['hits'][0]\n",
    "            top_score = top_result['_score']\n",
    "            print(f\"Top ranking result score: {top_score}\")\n",
    "            documents = [hit['_source'] for hit in response['hits']['hits']]\n",
    "            return documents\n",
    "        else:\n",
    "            print(\"No results found.\")\n",
    "            return []\n",
    "    except Exception as e:\n",
    "        print(f\"Error during search: {e}\")\n",
    "        return []\n"
   ]
  },
  {
   "cell_type": "code",
   "execution_count": 19,
   "id": "a651772b-159e-44c8-95d3-1cb29f7b756c",
   "metadata": {},
   "outputs": [
    {
     "name": "stdout",
     "output_type": "stream",
     "text": [
      "Top ranking result score: 84.050095\n",
      "Top ranking result: {'text': 'Launch the container image in interactive mode and overriding the entrypoint, so that it starts a bash command.\\ndocker run -it --entrypoint bash <image>\\nIf the container is already running, execute a command in the specific container:\\ndocker ps (find the container-id)\\ndocker exec -it <container-id> bash\\n(Marcos MJD)', 'section': '5. Deploying Machine Learning Models', 'question': 'How do I debug a docker container?', 'course': 'machine-learning-zoomcamp'}\n"
     ]
    }
   ],
   "source": [
    "query = \"How do I execute a command in a running docker container?\"\n",
    "documents = retrieve_documents(query)\n",
    "\n",
    "if documents:\n",
    "    top_result = documents[0]\n",
    "    print(f\"Top ranking result: {top_result}\")\n",
    "else:\n",
    "    print(\"No documents found.\")"
   ]
  },
  {
   "cell_type": "markdown",
   "id": "09a8e5af-c13f-4b8f-b67f-05674d4aacdc",
   "metadata": {},
   "source": [
    "### Question 4"
   ]
  },
  {
   "cell_type": "code",
   "execution_count": 24,
   "id": "7dab5960-51fb-4dc6-a749-f9163e6c861c",
   "metadata": {},
   "outputs": [],
   "source": [
    "# Define a function that retrieves documents and matches user queries\n",
    "\n",
    "def retrieve_documents_2(query, index_name, max_results=3):\n",
    "    search_query = {\n",
    "        \"size\": max_results,\n",
    "        \"query\": {\n",
    "            \"bool\": {\n",
    "                \"must\": {\n",
    "                    \"multi_match\": {\n",
    "                        \"query\": query,\n",
    "                        \"fields\": [\"question^4\", \"text\"],\n",
    "                        \"type\": \"best_fields\"\n",
    "                    }\n",
    "                },\n",
    "                \"filter\": {\n",
    "                    \"term\": {\n",
    "                        \"course\": \"machine-learning-zoomcamp\"\n",
    "                    }\n",
    "                }\n",
    "            }\n",
    "        }\n",
    "    }\n",
    "\n",
    "    response = es.search(index=index_name, body=search_query)\n",
    "    documents = [hit['_source'] for hit in response['hits']['hits']]\n",
    "    return documents"
   ]
  },
  {
   "cell_type": "code",
   "execution_count": 31,
   "id": "7261a358-6451-4e02-949c-947712fa873c",
   "metadata": {},
   "outputs": [
    {
     "name": "stdout",
     "output_type": "stream",
     "text": [
      "Question: How do I debug a docker container?\n",
      "Answer: Launch the container image in interactive mode and overriding the entrypoint, so that it starts a bash command.\n",
      "docker run -it --entrypoint bash <image>\n",
      "If the container is already running, execute a command in the specific container:\n",
      "docker ps (find the container-id)\n",
      "docker exec -it <container-id> bash\n",
      "(Marcos MJD)\n",
      "\n",
      "\n",
      "Question: How do I copy files from my local machine to docker container?\n",
      "Answer: You can copy files from your local machine into a Docker container using the docker cp command. Here's how to do it:\n",
      "To copy a file or directory from your local machine into a running Docker container, you can use the `docker cp command`. The basic syntax is as follows:\n",
      "docker cp /path/to/local/file_or_directory container_id:/path/in/container\n",
      "Hrithik Kumar Advani\n",
      "\n",
      "\n",
      "Question: How do I copy files from a different folder into docker container’s working directory?\n",
      "Answer: You can copy files from your local machine into a Docker container using the docker cp command. Here's how to do it:\n",
      "In the Dockerfile, you can provide the folder containing the files that you want to copy over. The basic syntax is as follows:\n",
      "COPY [\"src/predict.py\", \"models/xgb_model.bin\", \"./\"]\t\t\t\t\t\t\t\t\t\t\tGopakumar Gopinathan\n",
      "\n",
      "\n"
     ]
    }
   ],
   "source": [
    "query = \"How do I execute a command in a running docker container?\"\n",
    "\n",
    "response_2 = retrieve_documents_2(query, index_name)\n",
    "\n",
    "for doc in response_2:\n",
    "    print(f\"Question: {doc['question']}\\nAnswer: {doc['text']}\\n\\n\")"
   ]
  },
  {
   "cell_type": "markdown",
   "id": "06af1990-e5ac-4270-a114-44f6561e0d4f",
   "metadata": {},
   "source": [
    "### Question 5"
   ]
  },
  {
   "cell_type": "code",
   "execution_count": 32,
   "id": "10b93436-a2f4-430d-8277-f7503b9f8ff0",
   "metadata": {},
   "outputs": [],
   "source": [
    "# Define a function to format the context\n",
    "def format_context(response_2):\n",
    "    context_entries = []\n",
    "    context_template = \"\"\"\n",
    "Q: {question}\n",
    "A: {text}\n",
    "\"\"\".strip()\n",
    "    \n",
    "    for resp in response_2:\n",
    "        context_entry = context_template.format(question=resp['question'], text=resp['text'])\n",
    "        context_entries.append(context_entry)\n",
    "    \n",
    "    context = \"\\n\\n\".join(context_entries)\n",
    "    return context"
   ]
  },
  {
   "cell_type": "code",
   "execution_count": 33,
   "id": "a6bad27b-bbe0-4454-8318-8267de0a0cb1",
   "metadata": {},
   "outputs": [],
   "source": [
    "context = format_context(response_2)"
   ]
  },
  {
   "cell_type": "code",
   "execution_count": 35,
   "id": "5e6147bd-4896-40a4-946f-dfdd9a8e3fc1",
   "metadata": {},
   "outputs": [],
   "source": [
    "# Construct the final prompt using the provided prompt_template\n",
    "\n",
    "prompt_template = \"\"\"\n",
    "You're a course teaching assistant. Answer the QUESTION based on the CONTEXT from the FAQ database.\n",
    "Use only the facts from the CONTEXT when answering the QUESTION.\n",
    "\n",
    "QUESTION: {question}\n",
    "\n",
    "CONTEXT:\n",
    "{context}\n",
    "\"\"\".strip()\n",
    "\n",
    "# Fill in the template with the question and context\n",
    "final_prompt = prompt_template.format(question=query, context=context)"
   ]
  },
  {
   "cell_type": "code",
   "execution_count": 36,
   "id": "15efa193-b670-418d-b30d-0efc33acf940",
   "metadata": {},
   "outputs": [
    {
     "name": "stdout",
     "output_type": "stream",
     "text": [
      "Length of the final prompt: 1462 characters\n"
     ]
    }
   ],
   "source": [
    "prompt_length = len(final_prompt)\n",
    "print(f\"Length of the final prompt: {prompt_length} characters\")"
   ]
  },
  {
   "cell_type": "markdown",
   "id": "4dd753c5-e458-4f2e-a2ec-980ed64fe089",
   "metadata": {},
   "source": [
    "### Question 6"
   ]
  },
  {
   "cell_type": "code",
   "execution_count": 39,
   "id": "5fc727ef-ed56-41d9-91ca-82a2a0a2fea3",
   "metadata": {},
   "outputs": [
    {
     "name": "stdout",
     "output_type": "stream",
     "text": [
      "Number of tokens in the final prompt: 322\n"
     ]
    }
   ],
   "source": [
    "# Calculate and print the number of tokens\n",
    "\n",
    "encoding = tiktoken.encoding_for_model(\"gpt-4o\")\n",
    "tokens = encoding.encode(final_prompt)\n",
    "num_tokens = len(tokens)\n",
    "print(f\"Number of tokens in the final prompt: {num_tokens}\")"
   ]
  },
  {
   "cell_type": "code",
   "execution_count": null,
   "id": "9915a863-45a4-47af-8b37-ce3c58c80465",
   "metadata": {},
   "outputs": [],
   "source": []
  }
 ],
 "metadata": {
  "kernelspec": {
   "display_name": "Python 3 (ipykernel)",
   "language": "python",
   "name": "python3"
  },
  "language_info": {
   "codemirror_mode": {
    "name": "ipython",
    "version": 3
   },
   "file_extension": ".py",
   "mimetype": "text/x-python",
   "name": "python",
   "nbconvert_exporter": "python",
   "pygments_lexer": "ipython3",
   "version": "3.10.13"
  }
 },
 "nbformat": 4,
 "nbformat_minor": 5
}
